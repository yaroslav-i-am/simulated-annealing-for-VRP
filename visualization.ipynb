{
 "cells": [
  {
   "cell_type": "code",
   "execution_count": 5,
   "metadata": {},
   "outputs": [],
   "source": [
    "import pandas as pd"
   ]
  },
  {
   "cell_type": "code",
   "execution_count": 8,
   "metadata": {},
   "outputs": [
    {
     "data": {
      "text/plain": [
       "(0.10160689874536256, 0.0844861043532475)"
      ]
     },
     "execution_count": 8,
     "metadata": {},
     "output_type": "execute_result"
    }
   ],
   "source": [
    "data_base = pd.read_csv(\"timeit_base.csv\")\n",
    "data_seedtuning = pd.read_csv(\"timeit_seedtuning.csv\")\n",
    "\n",
    "data_base[\"loss\"].mean(), data_seedtuning[\"loss\"].mean()"
   ]
  },
  {
   "cell_type": "code",
   "execution_count": null,
   "metadata": {},
   "outputs": [],
   "source": [
    "import plotly.graph_objs as go\n",
    "import plotly.offline as py\n",
    "import numpy as np\n",
    "\n",
    "# Create the plot\n",
    "trace = go.Scatter3d(x=data_base[\"n_cars\"], y=data_base[\"n_nodes\"], z=data_base[\"loss\"], mode='markers', marker=dict(\n",
    "        size=5,\n",
    "        color=data_base[\"loss\"], \n",
    "        colorscale='Viridis',\n",
    "        showscale=True\n",
    "    ))\n",
    "\n",
    "\n",
    "fig = go.Figure(data=[trace])\n",
    "\n",
    "# Подписи осей\n",
    "fig.update_layout(\n",
    "    scene=dict(\n",
    "        xaxis_title=\"Количество пунктов\",\n",
    "        yaxis_title=\"Количество машин\",\n",
    "        zaxis_title=\"Стоимость пути\"\n",
    "    )\n",
    ")\n",
    "\n",
    "fig.write_html(\"points_cars_loss_dependency.html\")\n"
   ]
  },
  {
   "cell_type": "code",
   "execution_count": 10,
   "metadata": {},
   "outputs": [],
   "source": [
    "import plotly.graph_objs as go\n",
    "import plotly.offline as py\n",
    "import numpy as np\n",
    "\n",
    "# Create the plot\n",
    "trace = go.Scatter3d(x=data_base[\"n_cars\"], y=data_base[\"n_nodes\"], z=data_base[\"time\"], mode='markers', marker=dict(\n",
    "        size=5,\n",
    "        color=data_base[\"time\"], \n",
    "        colorscale='Viridis', \n",
    "        showscale=True \n",
    "    ))\n",
    "\n",
    "\n",
    "fig = go.Figure(data=[trace])\n",
    "\n",
    "# Подписи осей\n",
    "fig.update_layout(\n",
    "    scene=dict(\n",
    "        xaxis_title=\"Количество пунктов\",\n",
    "        yaxis_title=\"Количество машин\",\n",
    "        zaxis_title=\"Время вычислений\"\n",
    "    )\n",
    ")\n",
    "\n",
    "fig.write_html(\"points_cars_time_dependency.html\")\n"
   ]
  }
 ],
 "metadata": {
  "kernelspec": {
   "display_name": ".venv",
   "language": "python",
   "name": "python3"
  },
  "language_info": {
   "codemirror_mode": {
    "name": "ipython",
    "version": 3
   },
   "file_extension": ".py",
   "mimetype": "text/x-python",
   "name": "python",
   "nbconvert_exporter": "python",
   "pygments_lexer": "ipython3",
   "version": "3.10.12"
  }
 },
 "nbformat": 4,
 "nbformat_minor": 2
}
